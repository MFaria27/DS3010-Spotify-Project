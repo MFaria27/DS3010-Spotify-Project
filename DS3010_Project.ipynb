{
 "cells": [
  {
   "cell_type": "markdown",
   "id": "feeef75d-6c82-4fc6-a3e0-d0c035e6d6c9",
   "metadata": {},
   "source": [
    "## Data Cleaning: Transformations and Exception Handling\n",
    "\n",
    "This section of the code follows the data collection part. "
   ]
  },
  {
   "cell_type": "code",
   "execution_count": 1,
   "id": "6042c17f-883f-4123-b3c7-56d7c1325658",
   "metadata": {
    "collapsed": true,
    "jupyter": {
     "outputs_hidden": true
    },
    "tags": []
   },
   "outputs": [
    {
     "name": "stdout",
     "output_type": "stream",
     "text": [
      "         artist                 album                    track_name  \\\n",
      "0         Drake              Scorpion                    God's Plan   \n",
      "1  XXXTENTACION                     ?                          SAD!   \n",
      "2   Post Malone  beerbongs & bentleys    rockstar (feat. 21 Savage)   \n",
      "3   Post Malone  beerbongs & bentleys  Psycho (feat. Ty Dolla $ign)   \n",
      "4         Drake              Scorpion                In My Feelings   \n",
      "\n",
      "                 track_id release_date  explicit  popularity  danceability  \\\n",
      "0  6DCZcSspjsKoFjzjrWoCdn   2018-06-29      True          84         0.754   \n",
      "1  3ee8Jmje8o58CHK66QrVC2   2018-03-16      True          86         0.740   \n",
      "2  0e7ipj03S05BNilyu5bRzt   2018-04-27      True          85         0.585   \n",
      "3  3swc6WTsr7rl9DqQKQA55C   2018-04-27      True          80         0.750   \n",
      "4  2G7V7zsVDxg1yRsu7Ew9RJ   2018-06-29      True          78         0.835   \n",
      "\n",
      "   energy  key  loudness  mode  speechiness  instrumentalness  liveness  \\\n",
      "0   0.449    7    -9.211     1       0.1090          0.000083     0.552   \n",
      "1   0.613    8    -4.880     1       0.1450          0.003720     0.123   \n",
      "2   0.520    5    -6.136     0       0.0712          0.000070     0.131   \n",
      "3   0.560    8    -8.094     1       0.1050          0.000000     0.111   \n",
      "4   0.626    1    -5.833     1       0.1250          0.000060     0.396   \n",
      "\n",
      "   valence    tempo  duration_ms  time_signature  \n",
      "0    0.357   77.169       198973               4  \n",
      "1    0.473   75.023       166606               4  \n",
      "2    0.129  159.801       218147               4  \n",
      "3    0.459  140.060       221440               4  \n",
      "4    0.350   91.030       217925               4  \n",
      "Index(['artist', 'album', 'track_name', 'track_id', 'release_date', 'explicit',\n",
      "       'popularity', 'danceability', 'energy', 'key', 'loudness', 'mode',\n",
      "       'speechiness', 'instrumentalness', 'liveness', 'valence', 'tempo',\n",
      "       'duration_ms', 'time_signature'],\n",
      "      dtype='object')\n",
      "0        G\n",
      "1    G#/Ab\n",
      "2        F\n",
      "3    G#/Ab\n",
      "4    C#/Db\n",
      "Name: key, dtype: object\n",
      "10226    G#/Ab\n",
      "10227        F\n",
      "10228        G\n",
      "10229        B\n",
      "10230        G\n",
      "Name: key, dtype: object\n",
      "0    Major\n",
      "1    Major\n",
      "2    Minor\n",
      "3    Major\n",
      "4    Major\n",
      "Name: mode, dtype: object\n",
      "10226    Minor\n",
      "10227    Minor\n",
      "10228    Minor\n",
      "10229    Major\n",
      "10230    Major\n",
      "Name: mode, dtype: object\n",
      "0    2018\n",
      "1    2018\n",
      "2    2018\n",
      "3    2018\n",
      "4    2018\n",
      "Name: release_date, dtype: object\n",
      "10226    2020\n",
      "10227    2017\n",
      "10228    2018\n",
      "10229    2019\n",
      "10230    2019\n",
      "Name: release_date, dtype: object\n",
      "0    3.316217\n",
      "1    2.776767\n",
      "2    3.635783\n",
      "3    3.690667\n",
      "4    3.632083\n",
      "Name: duration_ms, dtype: float64\n",
      "10226    3.469267\n",
      "10227    3.383333\n",
      "10228    2.742850\n",
      "10229    3.451583\n",
      "10230    3.287550\n",
      "Name: duration_ms, dtype: float64\n"
     ]
    }
   ],
   "source": [
    "#Alvin Lee\n",
    "#This code accomplishes 3 data transformations:\n",
    "#1. Numeric values of song key to corresponding 12tone key\n",
    "#2. Numeric values for song mode to corresponding mode (only major and minor)\n",
    "#3. All dates are changed to year only for consistency purposes.\n",
    "\n",
    "#Furthermore, exceptions and null-values are checked via else statements.\n",
    "#None were found so no exception handling was necessary.\n",
    "\n",
    "import pandas as pd\n",
    "\n",
    "#Import the data_file.csv into a pandas dataframe\n",
    "#data_file = \"/drive/My Drive/Colab Notebooks/data_file.csv\"\n",
    "data_file = '/Users/alvinlee/Downloads/data_file.csv'\n",
    "df = pd.read_csv(data_file)\n",
    "\n",
    "#Drop any potential null rows containing no values\n",
    "df = df.dropna(how = 'all')\n",
    "\n",
    "#check first 5 rows of dataframe to see if loaded correctly\n",
    "print(df.head(5))\n",
    "print(df.columns)\n",
    "\n",
    "pd.options.mode.chained_assignment = None\n",
    "\n",
    "#iterate through key column to replace key values with string\n",
    "for i in range(0, len(df.key)):\n",
    "    if df.key[i] == 0:\n",
    "        df.key[i] = \"C\"\n",
    "    elif df.key[i] == 1:\n",
    "        df.key[i] = \"C#/Db\"\n",
    "    elif df.key[i] == 2:\n",
    "        df.key[i] = \"D\"\n",
    "    elif df.key[i] == 3:\n",
    "        df.key[i] = \"D#/Eb\"\n",
    "    elif df.key[i] == 4:\n",
    "        df.key[i] = \"E\"\n",
    "    elif df.key[i] == 5:\n",
    "        df.key[i] = \"F\"\n",
    "    elif df.key[i] == 6:\n",
    "        df.key[i] = \"F#/Gb\"\n",
    "    elif df.key[i] == 7:\n",
    "        df.key[i] = \"G\"\n",
    "    elif df.key[i] == 8:\n",
    "        df.key[i] = \"G#/Ab\"\n",
    "    elif df.key[i] == 9:\n",
    "        df.key[i] = \"A\"\n",
    "    elif df.key[i] == 10:\n",
    "        df.key[i] = \"A#/Bb\"\n",
    "    elif df.key[i] == 11:\n",
    "        df.key[i] = \"B\"\n",
    "    else:\n",
    "        print(\"Exception found at index \", i)\n",
    "        print(\"Exception data: \", df.key[i])\n",
    "        df.key[i] = \"None\"\n",
    "\n",
    "#check to see if correct transformation occurred\n",
    "print(df['key'].head(5))\n",
    "print(df['key'].tail(5))\n",
    "\n",
    "\n",
    "#iterate through mode column to replace 0 or 1 with Minor/Major\n",
    "for i in range(0, len(df['mode'])):\n",
    "    if df['mode'][i] == 0:\n",
    "        df['mode'][i] = 'Minor'\n",
    "    elif df['mode'][i] == 1:\n",
    "        df['mode'][i] = 'Major'\n",
    "    else:\n",
    "        print(\"Exception found at index \", i)\n",
    "        print(\"Exception found: \", df['mode'][i])\n",
    "        df['mode'][i] = 'None'\n",
    "\n",
    "#check to see if transformation occurred\n",
    "print(df['mode'].head())\n",
    "print(df['mode'].tail())\n",
    "\n",
    "#iterate through release_date and change to year only\n",
    "for i in range(0, len(df.release_date)):\n",
    "    df.release_date[i] = df.release_date[i][0:4]\n",
    "    if int(df.release_date[i]) < 1900:\n",
    "        print(\"Exception found at index \", i)\n",
    "        print(\"Exception data: \", df.release_date[i])\n",
    "\n",
    "print(df.release_date.head())\n",
    "print(df.release_date.tail())\n",
    "\n",
    "#transform duration_ms from milliseconds to minutes\n",
    "df.duration_ms = df.duration_ms.divide(60000)\n",
    "\n",
    "#check correct transformation\n",
    "print(df.duration_ms.head())\n",
    "print(df.duration_ms.tail())\n",
    "\n",
    "df.to_csv('/Users/alvinlee/Downloads/transformed_file.csv')\n",
    "#df.to_csv(r'/drive/My Drive/Colab Notebooks/transformed_file.csv', index = False, header=True)\n"
   ]
  },
  {
   "cell_type": "markdown",
   "id": "92479a52-b2e6-47f8-a2f7-655de277215f",
   "metadata": {},
   "source": [
    "## Exploratory Analysis\n",
    "\n",
    "We did some exploratory analysis  of our data for two main reasons:\n",
    "1. To identify obvious outliers based on the distributions of the features\n",
    "2. To see if there were any surface-level patterns between high popularity songs and certain features"
   ]
  },
  {
   "cell_type": "code",
   "execution_count": 2,
   "id": "e2f242bc-71c4-4087-ac3a-e60dfd264f5f",
   "metadata": {},
   "outputs": [
    {
     "data": {
      "text/plain": [
       "Text(0.5, 0, 'Popularity Score')"
      ]
     },
     "execution_count": 2,
     "metadata": {},
     "output_type": "execute_result"
    },
    {
     "data": {
      "image/png": "[encoded data removed]",
      "text/plain": [
       "<Figure size 432x288 with 1 Axes>"
      ]
     },
     "metadata": {
      "needs_background": "light"
     },
     "output_type": "display_data"
    }
   ],
   "source": [
    "%matplotlib inline\n",
    "import matplotlib.pyplot as plt\n",
    "import numpy as np\n",
    "import scipy.stats as stats\n",
    "import math as math\n",
    "\n",
    "data = \"/Users/alvinlee/Downloads/transformed_file.csv\"\n",
    "df = pd.read_csv(data)\n",
    "\n",
    "popularity = df.popularity\n",
    "\n",
    "plt.hist(popularity, density=False, bins=100)  # density=False would make counts\n",
    "plt.ylabel('Counts')\n",
    "plt.xlabel('Popularity Score')\n"
   ]
  },
  {
   "cell_type": "markdown",
   "id": "8bdc5561-b7a2-4e74-bd0a-13253f539134",
   "metadata": {},
   "source": [
    "We notice there are a ton of 0 popularity-score songs in our dataset. Because it's throwing off the otherwise-normal distribution, we choose to remove those cells from our analysis."
   ]
  },
  {
   "cell_type": "code",
   "execution_count": 3,
   "id": "84e637c0-cc03-4077-b184-5c1213a2523a",
   "metadata": {},
   "outputs": [
    {
     "data": {
      "text/plain": [
       "(array([ 35.,  36.,  20.,   8.,  17.,  16.,  20.,  19.,  24.,  13.,  23.,\n",
       "         13.,   8.,  20.,  16.,  31.,  16.,  23.,  20.,  30.,  26.,  32.,\n",
       "         27.,  26.,  38.,  44.,  52.,  51.,  64.,  63.,  78.,  80.,  73.,\n",
       "          0.,  85., 105., 104., 102., 125., 118., 109., 140., 166., 170.,\n",
       "        183., 186., 186., 208., 207., 209., 216., 246., 244., 236., 202.,\n",
       "        248., 228., 234., 244., 230., 226., 232., 199., 216., 241., 220.,\n",
       "          0., 197., 202., 170., 207., 160., 143., 140., 129., 137., 166.,\n",
       "        117., 110., 118.,  71.,  77.,  84.,  66.,  75.,  34.,  50.,  45.,\n",
       "         29.,  27.,  15.,  11.,  13.,   7.,  12.,   7.,   3.,   4.,   1.,\n",
       "          2.]),\n",
       " array([ 1.  ,  1.97,  2.94,  3.91,  4.88,  5.85,  6.82,  7.79,  8.76,\n",
       "         9.73, 10.7 , 11.67, 12.64, 13.61, 14.58, 15.55, 16.52, 17.49,\n",
       "        18.46, 19.43, 20.4 , 21.37, 22.34, 23.31, 24.28, 25.25, 26.22,\n",
       "        27.19, 28.16, 29.13, 30.1 , 31.07, 32.04, 33.01, 33.98, 34.95,\n",
       "        35.92, 36.89, 37.86, 38.83, 39.8 , 40.77, 41.74, 42.71, 43.68,\n",
       "        44.65, 45.62, 46.59, 47.56, 48.53, 49.5 , 50.47, 51.44, 52.41,\n",
       "        53.38, 54.35, 55.32, 56.29, 57.26, 58.23, 59.2 , 60.17, 61.14,\n",
       "        62.11, 63.08, 64.05, 65.02, 65.99, 66.96, 67.93, 68.9 , 69.87,\n",
       "        70.84, 71.81, 72.78, 73.75, 74.72, 75.69, 76.66, 77.63, 78.6 ,\n",
       "        79.57, 80.54, 81.51, 82.48, 83.45, 84.42, 85.39, 86.36, 87.33,\n",
       "        88.3 , 89.27, 90.24, 91.21, 92.18, 93.15, 94.12, 95.09, 96.06,\n",
       "        97.03, 98.  ]),\n",
       " <BarContainer object of 100 artists>)"
      ]
     },
     "execution_count": 3,
     "metadata": {},
     "output_type": "execute_result"
    },
    {
     "data": {
      "image/png": "[encoded data removed]",
      "text/plain": [
       "<Figure size 432x288 with 1 Axes>"
      ]
     },
     "metadata": {
      "needs_background": "light"
     },
     "output_type": "display_data"
    }
   ],
   "source": [
    "#drop 0-popularity values from dataframe\n",
    "df = df[df.popularity >= 1]\n",
    "\n",
    "#update popularity after dropping values\n",
    "popularity = df.popularity\n",
    "\n",
    "#check distribution again to check if correctly dropped\n",
    "plt.hist(popularity, density=False, bins=100)  # density=False would make counts"
   ]
  },
  {
   "cell_type": "markdown",
   "id": "048ec7c7-8cd3-4a7e-8000-503c33820968",
   "metadata": {},
   "source": [
    "After dropping 0-popularity score songs from the dataframe the distribution looks much better. Let's take a look at some statistics about popularity data."
   ]
  },
  {
   "cell_type": "code",
   "execution_count": 4,
   "id": "5e62466d-68d3-4b18-b3d2-265880ab7a8d",
   "metadata": {},
   "outputs": [
    {
     "name": "stdout",
     "output_type": "stream",
     "text": [
      "Sample mean is  54.44557195571956\n",
      "Sample standard deviation is  17.23195736186597\n",
      "Degrees of freedom:  9755\n"
     ]
    }
   ],
   "source": [
    "x_bar = np.mean(popularity)\n",
    "sample_sd = np.std(popularity)\n",
    "deg_free = len(popularity) - 1\n",
    "\n",
    "#CI_99 = stats.t.interval(alpha=0.99, df=len(popularity)-1, loc=np.mean(popularity), scale=stats.sem(popularity))\n",
    "\n",
    "print(\"Sample mean is \", x_bar)\n",
    "print(\"Sample standard deviation is \", sample_sd)\n",
    "print(\"Degrees of freedom: \", deg_free)\n",
    "#print(\"The 99% confidence interval for the mean is \", CI_997)"
   ]
  },
  {
   "cell_type": "markdown",
   "id": "2a983f9a-8f2d-4e22-a154-5a091788994a",
   "metadata": {},
   "source": [
    "DONE OUTSIDE THIS NOTEBOOK:\n",
    "We looked at the distributions of each feature to help identify outliers via excel.\n",
    "\n",
    "Each feature's distribution looked fine except duration; one song had a length of 76.8\n",
    "minutes, while the next closest had a duration of 25.8 minutes. We therefore want to\n",
    "drop that column from our dataframe."
   ]
  },
  {
   "cell_type": "code",
   "execution_count": 6,
   "id": "98546718-4fb8-4883-b3cf-b290f11a1026",
   "metadata": {},
   "outputs": [
    {
     "name": "stdout",
     "output_type": "stream",
     "text": [
      "25.83275\n"
     ]
    },
    {
     "data": {
      "image/png": "[encoded data removed]",
      "text/plain": [
       "<Figure size 432x288 with 1 Axes>"
      ]
     },
     "metadata": {
      "needs_background": "light"
     },
     "output_type": "display_data"
    }
   ],
   "source": [
    "#Before dropping the value:\n",
    "plt.hist(df.duration_ms, density=False, bins=100)\n",
    "\n",
    "#Dropping the value:\n",
    "df = df[df.duration_ms < 26]\n",
    "plt.hist(df.duration_ms, density=False, bins=100)\n",
    "\n",
    "print(df.duration_ms.max())"
   ]
  },
  {
   "cell_type": "code",
   "execution_count": 7,
   "id": "fbe864da-3508-42df-8d98-b6f9bdd65ed0",
   "metadata": {},
   "outputs": [
    {
     "name": "stdout",
     "output_type": "stream",
     "text": [
      "                        mean        std        min         max\n",
      "popularity         81.344615   4.544126  76.000000   98.000000\n",
      "danceability        0.700485   0.137296   0.216000    0.973000\n",
      "energy              0.611462   0.165201   0.016700    0.974000\n",
      "loudness           -6.661903   2.572875 -24.639000   -1.299000\n",
      "speechiness         0.139454   0.118924   0.023200    0.619000\n",
      "instrumentalness    0.013368   0.081210   0.000000    0.897000\n",
      "liveness            0.183691   0.141397   0.021500    0.970000\n",
      "valence             0.466320   0.221418   0.035200    0.962000\n",
      "tempo             120.739608  28.388520  61.311000  207.970000\n",
      "duration_ms         3.332004   0.911796   1.334683    9.802317\n",
      "                        mean        std       min        max\n",
      "popularity         51.463781  15.433691   1.00000   76.00000\n",
      "danceability        0.705950   0.144957   0.00000    0.98800\n",
      "energy              0.615252   0.161113   0.00527    0.99900\n",
      "loudness           -7.312629   2.938653 -37.26400    3.22100\n",
      "speechiness         0.217163   0.168119   0.00000    0.96200\n",
      "instrumentalness    0.025097   0.130976   0.00000    0.99500\n",
      "liveness            0.203640   0.166528   0.00000    0.99600\n",
      "valence             0.456722   0.217101   0.00000    1.00000\n",
      "tempo             123.621885  29.607525   0.00000  220.09900\n",
      "duration_ms         3.267410   1.097291   0.08880   25.83275\n"
     ]
    }
   ],
   "source": [
    "#Let's isolate the top 10% of songs in popularity to \n",
    "#see how they compare with the rest of the dataset.\n",
    "\n",
    "\n",
    "top10pct_df = df.nlargest(math.floor(0.1*len(df.popularity)), 'popularity')\n",
    "#top10pct_df.to_csv(\"/Users/alvinlee/Downloads/top10pct.csv\")\n",
    "\n",
    "print(top10pct_df.describe().loc[['mean', 'std', 'min', 'max']].transpose().loc[['popularity', 'danceability', 'energy', 'loudness', 'speechiness', 'instrumentalness', 'liveness', 'valence', 'tempo', 'duration_ms']])\n",
    "\n",
    "#Inspecting the statistics of features from the rest of the dataset\n",
    "bot90pct_df = df.nsmallest(math.ceil(0.9*len(df.popularity)), 'popularity')\n",
    "\n",
    "print(bot90pct_df.describe().loc[['mean', 'std', 'min', 'max']].transpose().loc[['popularity', 'danceability', 'energy', 'loudness', 'speechiness', 'instrumentalness', 'liveness', 'valence', 'tempo', 'duration_ms']])"
   ]
  },
  {
   "cell_type": "code",
   "execution_count": 8,
   "id": "2376a5b6-47fb-4943-b00c-e523cce64f5f",
   "metadata": {},
   "outputs": [
    {
     "name": "stdout",
     "output_type": "stream",
     "text": [
      "                        mean        std       min        max\n",
      "popularity         54.450333  17.227306   1.00000   98.00000\n",
      "danceability        0.705358   0.144219   0.00000    0.98800\n",
      "energy              0.614908   0.161534   0.00527    0.99900\n",
      "loudness           -7.247711   2.910490 -37.26400    3.22100\n",
      "speechiness         0.209416   0.165517   0.00000    0.96200\n",
      "instrumentalness    0.023934   0.126929   0.00000    0.99500\n",
      "liveness            0.201653   0.164295   0.00000    0.99600\n",
      "valence             0.457743   0.217591   0.00000    1.00000\n",
      "tempo             123.330038  29.501611   0.00000  220.09900\n",
      "duration_ms         3.274131   1.080479   0.08880   25.83275\n"
     ]
    }
   ],
   "source": [
    "#Inspecting statistics of features from the WHOLE dataset\n",
    "print(df.describe().loc[['mean', 'std', 'min', 'max']].transpose().loc[['popularity', 'danceability', 'energy', 'loudness', 'speechiness', 'instrumentalness', 'liveness', 'valence', 'tempo', 'duration_ms']])"
   ]
  },
  {
   "cell_type": "markdown",
   "id": "d7b46dae-e590-4d88-9fc4-82bf6e4d15eb",
   "metadata": {},
   "source": [
    "Now that we've removed outliers and inspected the features of our data, we can move onto building our Random Forest model to predict popularity scores."
   ]
  },
  {
   "cell_type": "markdown",
   "id": "f41c5a12-dda4-488a-9f69-89c820758445",
   "metadata": {},
   "source": [
    "## Modeling the RandomForestRegressor\n",
    "\n",
    "First, we need to change back the data we've transformed from discrete numeric to string (like song key and mode)"
   ]
  },
  {
   "cell_type": "code",
   "execution_count": null,
   "id": "1197e8e4-5eb1-465f-9c0f-32e8f11359a5",
   "metadata": {},
   "outputs": [],
   "source": [
    "#Import the data_file.csv into a pandas dataframe\n",
    "#data_file = \"/drive/My Drive/Colab Notebooks/data_file.csv\"\n",
    "data_file = '/Users/alvinlee/Downloads/fully_processed_data.csv'\n",
    "df = pd.read_csv(data_file)\n",
    "\n",
    "#check first 5 rows of dataframe to see if loaded correctly\n",
    "print(df.head(5))\n",
    "print(df.columns)\n",
    "\n",
    "pd.options.mode.chained_assignment = None\n",
    "\n",
    "#iterate through key column to replace key values with string\n",
    "for i in range(0, len(df.key)):\n",
    "    if df.key[i] == \"C\":\n",
    "        df.key[i] = 0\n",
    "    elif df.key[i] == \"C#/Db\":\n",
    "        df.key[i] = 1\n",
    "    elif df.key[i] == \"D\":\n",
    "        df.key[i] = 2\n",
    "    elif df.key[i] == \"D#/Eb\":\n",
    "        df.key[i] = 3\n",
    "    elif df.key[i] == \"E\":\n",
    "        df.key[i] = 4\n",
    "    elif df.key[i] == \"F\":\n",
    "        df.key[i] = 5\n",
    "    elif df.key[i] == \"F#/Gb\":\n",
    "        df.key[i] = 6\n",
    "    elif df.key[i] == \"G\":\n",
    "        df.key[i] = 7\n",
    "    elif df.key[i] == \"G#/Ab\":\n",
    "        df.key[i] = 8\n",
    "    elif df.key[i] == \"A\":\n",
    "        df.key[i] = 9\n",
    "    elif df.key[i] == \"A#/Bb\":\n",
    "        df.key[i] = 10\n",
    "    elif df.key[i] == \"B\":\n",
    "        df.key[i] = 11\n",
    "\n",
    "#iterate through mode column to replace 0 or 1 with Minor/Major\n",
    "for i in range(0, len(df['mode'])):\n",
    "    if df['mode'][i] == 'Minor':\n",
    "        df['mode'][i] = 0\n",
    "    elif df['mode'][i] == 'Major':\n",
    "        df['mode'][i] = 1\n",
    "#print(df.key.head())\n",
    "\n",
    "for i in range(0, len(df['explicit'])):\n",
    "    if df.explicit[i] == True:\n",
    "        df.explicit[i] = 1\n",
    "    elif df.explicit[i] == False:\n",
    "        df.explicit[i] = 0\n",
    "\n",
    "#check correct transformation\n",
    "#print(df.explicit.head())\n",
    "#print(df.explicit.tail())\n",
    "\n",
    "df.to_csv('/Users/alvinlee/Downloads/RF_reg_ready.csv')"
   ]
  },
  {
   "cell_type": "markdown",
   "id": "4732bc8a-f438-43df-893c-4da3c8ae083e",
   "metadata": {},
   "source": [
    "## Now we're finally ready to build and fit a model to our data."
   ]
  },
  {
   "cell_type": "code",
   "execution_count": null,
   "id": "16690b88-78f6-43ae-b6a0-0ed19c491047",
   "metadata": {},
   "outputs": [],
   "source": [
    "from sklearn import ensemble\n",
    "from sklearn.model_selection import train_test_split\n",
    "\n",
    "data = \"/Users/alvinlee/Downloads/RF_reg_ready.csv\"\n",
    "df = pd.read_csv(data)\n",
    "\n",
    "#set the features of the model\n",
    "x = df.drop(['artist','popularity','Unnamed: 0', 'Unnamed: 0.1', 'album', 'track_name', 'track_id'], axis=1)\n",
    "#print(x)\n",
    "\n",
    "#set target variable for model to predict\n",
    "y = df.popularity\n",
    "#print(y)\n",
    "\n",
    "#create train and testing data partitions\n",
    "x_train, x_test, y_train, y_test = train_test_split(x, y, test_size=0.30, train_size=0.70)\n",
    "\n",
    "RF_reg = ensemble.RandomForestRegressor(random_state=1)\n",
    "RF_reg.fit(x_train, y_train)\n",
    "\n",
    "y_pred = RF_reg.predict(x_test)\n",
    "\n",
    "residuals = y_pred - y_test\n",
    "sq_resid = []\n",
    "\n",
    "for i in residuals:\n",
    "    sq_resid.append(i**2)\n",
    "\n",
    "std_error = (sum(sq_resid)/(len(sq_resid)-2))**(1/2)\n",
    "MSE = np.mean(sq_resid)\n",
    "RMSE = MSE**(1/2)\n",
    "\n",
    "print(\"Margin of error is +/-\", std_error*2)\n",
    "print(\"Testing RMSE of our model is \", RMSE)"
   ]
  }
 ],
 "metadata": {
  "kernelspec": {
   "display_name": "Python 3",
   "language": "python",
   "name": "python3"
  },
  "language_info": {
   "codemirror_mode": {
    "name": "ipython",
    "version": 3
   },
   "file_extension": ".py",
   "mimetype": "text/x-python",
   "name": "python",
   "nbconvert_exporter": "python",
   "pygments_lexer": "ipython3",
   "version": "3.8.8"
  }
 },
 "nbformat": 4,
 "nbformat_minor": 5
}
